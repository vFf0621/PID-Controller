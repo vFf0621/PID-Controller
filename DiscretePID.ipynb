{
 "cells": [
  {
   "cell_type": "code",
   "execution_count": 1,
   "metadata": {},
   "outputs": [],
   "source": [
    "#!/usr/bin/env python3\n",
    "# -*- coding: utf-8 -*-\n",
    "\"\"\"\n",
    "Created on Mon Nov 30 20:25:42 2020\n",
    "@author: fguan\n",
    "\"\"\"\n",
    "import matplotlib.pyplot as plt\n",
    "\n",
    "class DiscretePID:\n",
    "    \"\"\"Discrete PID Controller that takes in the loss, dloss, accumulated loss\n",
    "    and computes the output.\"\"\"\n",
    "\n",
    "    def __init__(self, P: float, I: float, D: float) -> None:\n",
    "        \"\"\"Initializes a discrete PID controller, given the P, I, D gains.\"\"\"\n",
    "        self.P = P\n",
    "        self.I = I\n",
    "        self.D = D\n",
    "    \n",
    "    def control(self, loss: float, dloss: float, aloss: float) -> float:\n",
    "        \"\"\"Given the loss, dloss and accumulated loss, computes the \n",
    "        compensation amount.\"\"\"\n",
    "        p_term = self.P * loss\n",
    "        i_term = self.I * aloss\n",
    "        d_term = self.D * dloss\n",
    "        return p_term + i_term + d_term\n",
    "            \n",
    "            \n",
    "def run(controller: DiscretePID, target: float = 1.0, current: float = 0.,\n",
    "        iteration: int = 100) -> None:\n",
    "    \"\"\"Simulates the control with given iterations.\"\"\"\n",
    "    prev_loss = target - current\n",
    "    aloss = 0.\n",
    "    for i in range(iteration):\n",
    "        loss = target - current\n",
    "        aloss += loss\n",
    "        dloss = loss - prev_loss\n",
    "        u = controller.control(loss, dloss, aloss) # input to be applied.\n",
    "        prev_loss = loss\n",
    "        current += u\n",
    "        plt.plot(i, target, 'ro')\n",
    "        plt.plot(i, current, 'go')"
   ]
  },
  {
   "cell_type": "code",
   "execution_count": 136,
   "metadata": {},
   "outputs": [],
   "source": [
    "c = DiscretePID(0.1, 0.1, 0.1) # P = I = D = 0.1"
   ]
  },
  {
   "cell_type": "code",
   "execution_count": 137,
   "metadata": {},
   "outputs": [
    {
     "data": {
      "image/png": "[encoded data removed]",
      "text/plain": [
       "<Figure size 432x288 with 1 Axes>"
      ]
     },
     "metadata": {
      "needs_background": "light"
     },
     "output_type": "display_data"
    }
   ],
   "source": [
    "run(c, 1.0, 0.0, 100) # 100 iterations"
   ]
  },
  {
   "cell_type": "code",
   "execution_count": 133,
   "metadata": {},
   "outputs": [],
   "source": [
    "c = DiscretePID(0.5, 0.05, 0.2) # P = 0.5, I = 0.05, D = 0.2"
   ]
  },
  {
   "cell_type": "code",
   "execution_count": 134,
   "metadata": {},
   "outputs": [
    {
     "data": {
      "image/png": "[encoded data removed]",
      "text/plain": [
       "<Figure size 432x288 with 1 Axes>"
      ]
     },
     "metadata": {
      "needs_background": "light"
     },
     "output_type": "display_data"
    }
   ],
   "source": [
    "run(c, 1.0, 0.0, 100) # 100 Iterations."
   ]
  }
 ],
 "metadata": {
  "kernelspec": {
   "display_name": "Python 3",
   "language": "python",
   "name": "python3"
  },
  "language_info": {
   "codemirror_mode": {
    "name": "ipython",
    "version": 3
   },
   "file_extension": ".py",
   "mimetype": "text/x-python",
   "name": "python",
   "nbconvert_exporter": "python",
   "pygments_lexer": "ipython3",
   "version": "3.8.3"
  }
 },
 "nbformat": 4,
 "nbformat_minor": 4
}
